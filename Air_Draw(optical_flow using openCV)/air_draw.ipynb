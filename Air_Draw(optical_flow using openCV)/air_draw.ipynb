{
 "cells": [
  {
   "cell_type": "code",
   "execution_count": 1,
   "metadata": {},
   "outputs": [],
   "source": [
    "import cv2\n",
    "import numpy as np\n",
    "import matplotlib.pyplot as plt\n",
    "import datetime"
   ]
  },
  {
   "cell_type": "code",
   "execution_count": 2,
   "metadata": {},
   "outputs": [],
   "source": [
    "x,y,k=200,200,-1"
   ]
  },
  {
   "cell_type": "code",
   "execution_count": 3,
   "metadata": {},
   "outputs": [],
   "source": [
    "capture=cv2.VideoCapture(0)"
   ]
  },
  {
   "cell_type": "markdown",
   "metadata": {},
   "source": [
    "EVENT_LBUTTONDOWN Event below signifies left mouse button as an event,it overwrites the current x and y position"
   ]
  },
  {
   "cell_type": "code",
   "execution_count": 4,
   "metadata": {},
   "outputs": [],
   "source": [
    "def take_input_images(action_event,x1,y1,flag,param):\n",
    "    global x,y,k\n",
    "    if action_event==cv2.EVENT_LBUTTONDOWN:\n",
    "        x=x1\n",
    "        y=y1\n",
    "        k=1"
   ]
  },
  {
   "cell_type": "code",
   "execution_count": 5,
   "metadata": {},
   "outputs": [],
   "source": [
    "cv2.namedWindow(\"Draw/Move_point\")\n",
    "cv2.setMouseCallback(\"Draw/Move_point\",take_input_images)"
   ]
  },
  {
   "cell_type": "code",
   "execution_count": 6,
   "metadata": {
    "scrolled": true
   },
   "outputs": [
    {
     "ename": "KeyboardInterrupt",
     "evalue": "",
     "output_type": "error",
     "traceback": [
      "\u001b[1;31m---------------------------------------------------------------------------\u001b[0m",
      "\u001b[1;31mKeyboardInterrupt\u001b[0m                         Traceback (most recent call last)",
      "\u001b[1;32m<ipython-input-6-2245680a2088>\u001b[0m in \u001b[0;36m<module>\u001b[1;34m\u001b[0m\n\u001b[0;32m      5\u001b[0m \u001b[1;33m\u001b[0m\u001b[0m\n\u001b[0;32m      6\u001b[0m     \u001b[0mcv2\u001b[0m\u001b[1;33m.\u001b[0m\u001b[0mimshow\u001b[0m\u001b[1;33m(\u001b[0m\u001b[1;34m\"Draw/Move_point\"\u001b[0m\u001b[1;33m,\u001b[0m\u001b[0minput_image\u001b[0m\u001b[1;33m)\u001b[0m\u001b[1;33m\u001b[0m\u001b[1;33m\u001b[0m\u001b[0m\n\u001b[1;32m----> 7\u001b[1;33m     \u001b[1;32mif\u001b[0m\u001b[1;33m(\u001b[0m\u001b[0mk\u001b[0m\u001b[1;33m==\u001b[0m\u001b[1;36m1\u001b[0m \u001b[1;32mor\u001b[0m \u001b[0mcv2\u001b[0m\u001b[1;33m.\u001b[0m\u001b[0mwaitKey\u001b[0m\u001b[1;33m(\u001b[0m\u001b[1;36m30\u001b[0m\u001b[1;33m)\u001b[0m\u001b[1;33m==\u001b[0m\u001b[1;36m27\u001b[0m\u001b[1;33m)\u001b[0m\u001b[1;33m:\u001b[0m\u001b[1;33m\u001b[0m\u001b[1;33m\u001b[0m\u001b[0m\n\u001b[0m\u001b[0;32m      8\u001b[0m         \u001b[0mcv2\u001b[0m\u001b[1;33m.\u001b[0m\u001b[0mdestroyAllWindows\u001b[0m\u001b[1;33m(\u001b[0m\u001b[1;33m)\u001b[0m\u001b[1;33m\u001b[0m\u001b[1;33m\u001b[0m\u001b[0m\n\u001b[0;32m      9\u001b[0m         \u001b[1;32mbreak\u001b[0m\u001b[1;33m\u001b[0m\u001b[1;33m\u001b[0m\u001b[0m\n",
      "\u001b[1;31mKeyboardInterrupt\u001b[0m: "
     ]
    }
   ],
   "source": [
    "while(True):\n",
    "    _,input_image=capture.read()\n",
    "    input_image=cv2.flip(input_image,1)\n",
    "    grayscale_input_image=cv2.cvtColor(input_image,cv2.COLOR_BGR2GRAY)\n",
    "    \n",
    "    cv2.imshow(\"Draw/Move_point\",input_image)\n",
    "    if(k==1 or cv2.waitKey(30)==27):\n",
    "        cv2.destroyAllWindows()\n",
    "        break"
   ]
  },
  {
   "cell_type": "markdown",
   "metadata": {},
   "source": [
    "# optical flow(tracking) part"
   ]
  },
  {
   "cell_type": "code",
   "execution_count": null,
   "metadata": {},
   "outputs": [],
   "source": [
    "stop=0"
   ]
  },
  {
   "cell_type": "code",
   "execution_count": null,
   "metadata": {},
   "outputs": [],
   "source": [
    "old_points=np.array([[x,y]],dtype=np.float32).reshape(-1,1,2)"
   ]
  },
  {
   "cell_type": "markdown",
   "metadata": {},
   "source": [
    "The below function uses the LUCAS KANADE OPTICAL FLOW METHOD PRESENT IN cv2"
   ]
  },
  {
   "cell_type": "markdown",
   "metadata": {},
   "source": [
    "Mask is window size equal to the input image size it is blank,acts like a canvas"
   ]
  },
  {
   "cell_type": "code",
   "execution_count": null,
   "metadata": {},
   "outputs": [],
   "source": [
    "mask=np.zeros_like(input_image)\n",
    "while(True):\n",
    "    _,new_input_image=capture.read()\n",
    "    new_input_image=cv2.flip(new_input_image,1)\n",
    "    new_grayscale_image=cv2.cvtColor(new_input_image,cv2.COLOR_BGR2GRAY)\n",
    "    new_points,status,error=cv2.calcOpticalFlowPyrLK(grayscale_input_image,\n",
    "                                                    new_grayscale_image,\n",
    "                                                    old_points,\n",
    "                                                    None,maxLevel=1,\n",
    "                                                    criteria=(cv2.TERM_CRITERIA_EPS| cv2.TERM_CRITERIA_COUNT,15, 0.08))\n",
    "    \n",
    "    for i,j in zip(old_points,new_points):\n",
    "        a,b=i.ravel()\n",
    "        x,y=j.ravel()\n",
    "        #j=[[1,2]].ravel()==>x=1,y=2\n",
    "        \n",
    "        if cv2.waitKey(2) & 0xff == ord('q'):\n",
    "            stop = 1 #stopdrawing on q press\n",
    "            \n",
    "        elif cv2.waitKey(2) & 0xff == ord('w'):\n",
    "            stop = 0 #start drawing on w press\n",
    "        \n",
    "        elif cv2.waitKey(2) == ord('n'):\n",
    "            mask = np.zeros_like(new_input_image)\n",
    "            #reset on pressing n\n",
    "        \n",
    "        #again start drawing\n",
    "        if stop == 0:\n",
    "            mask = cv2.line(mask, (a,b), (x,y), (0,0,255), 6)\n",
    "        \n",
    "        cv2.circle(new_input_image,(x,y),6,(0,255,0),-1)\n",
    "        \n",
    "    new_input_image=cv2.addWeighted(mask,0.3,new_input_image,0.7,0)\n",
    "    cv2.putText(mask,\"Press Q to quit W to draw N to reset\",(10,50),\n",
    "               cv2.FONT_HERSHEY_PLAIN,2,(255,255,255))\n",
    "    \n",
    "    cv2.imshow(\"Output\",new_input_image)\n",
    "    cv2.imshow(\"Drawing\",mask)\n",
    "    \n",
    "    #use current image and store the old image\n",
    "    gray_input_image=new_grayscale_image.copy()\n",
    "    old_points=new_points.reshape(-1,1,2)\n",
    "    \n",
    "    if(cv2.waitKey(1) and 0xff==27):\n",
    "        break\n",
    "\n",
    "cv2.destroyAllWindows()\n",
    "capture.release()"
   ]
  },
  {
   "cell_type": "code",
   "execution_count": null,
   "metadata": {},
   "outputs": [],
   "source": []
  },
  {
   "cell_type": "code",
   "execution_count": null,
   "metadata": {},
   "outputs": [],
   "source": []
  },
  {
   "cell_type": "code",
   "execution_count": null,
   "metadata": {},
   "outputs": [],
   "source": []
  },
  {
   "cell_type": "code",
   "execution_count": null,
   "metadata": {},
   "outputs": [],
   "source": []
  },
  {
   "cell_type": "code",
   "execution_count": null,
   "metadata": {},
   "outputs": [],
   "source": []
  },
  {
   "cell_type": "code",
   "execution_count": null,
   "metadata": {},
   "outputs": [],
   "source": []
  },
  {
   "cell_type": "code",
   "execution_count": null,
   "metadata": {},
   "outputs": [],
   "source": []
  },
  {
   "cell_type": "code",
   "execution_count": null,
   "metadata": {},
   "outputs": [],
   "source": []
  },
  {
   "cell_type": "code",
   "execution_count": null,
   "metadata": {},
   "outputs": [],
   "source": []
  },
  {
   "cell_type": "code",
   "execution_count": null,
   "metadata": {},
   "outputs": [],
   "source": []
  },
  {
   "cell_type": "code",
   "execution_count": null,
   "metadata": {},
   "outputs": [],
   "source": []
  },
  {
   "cell_type": "code",
   "execution_count": null,
   "metadata": {},
   "outputs": [],
   "source": []
  },
  {
   "cell_type": "code",
   "execution_count": null,
   "metadata": {},
   "outputs": [],
   "source": []
  },
  {
   "cell_type": "code",
   "execution_count": null,
   "metadata": {},
   "outputs": [],
   "source": []
  }
 ],
 "metadata": {
  "kernelspec": {
   "display_name": "Python 3",
   "language": "python",
   "name": "python3"
  },
  "language_info": {
   "codemirror_mode": {
    "name": "ipython",
    "version": 3
   },
   "file_extension": ".py",
   "mimetype": "text/x-python",
   "name": "python",
   "nbconvert_exporter": "python",
   "pygments_lexer": "ipython3",
   "version": "3.7.4"
  }
 },
 "nbformat": 4,
 "nbformat_minor": 2
}
