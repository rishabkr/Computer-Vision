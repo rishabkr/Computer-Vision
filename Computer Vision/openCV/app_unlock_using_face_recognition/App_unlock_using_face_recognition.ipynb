{
 "cells": [
  {
   "cell_type": "code",
   "execution_count": 1,
   "metadata": {},
   "outputs": [],
   "source": [
    "import cv2\n",
    "import numpy as np\n",
    "import os\n",
    "face_directory='./User_Faces/'"
   ]
  },
  {
   "cell_type": "code",
   "execution_count": 2,
   "metadata": {},
   "outputs": [],
   "source": [
    "face_classifier=cv2.CascadeClassifier('./haarcascade_frontalface_default.xml')"
   ]
  },
  {
   "cell_type": "markdown",
   "metadata": {},
   "source": [
    "# Get Training Data(Faces)"
   ]
  },
  {
   "cell_type": "code",
   "execution_count": 3,
   "metadata": {},
   "outputs": [],
   "source": [
    "def detect_and_extract_faces(image):\n",
    "    gray=cv2.cvtColor(image,cv2.COLOR_BGR2GRAY)\n",
    "    faces=face_classifier.detectMultiScale(gray,1.3,5)\n",
    "    \n",
    "    if(faces is ()):\n",
    "        return None\n",
    "    \n",
    "    for (x,y,w,h) in faces:\n",
    "        cropped_face=image[y:y+h,x:x+w] \n",
    "    return cropped_face"
   ]
  },
  {
   "cell_type": "markdown",
   "metadata": {},
   "source": [
    "Initialize the device and Read the face frames"
   ]
  },
  {
   "cell_type": "code",
   "execution_count": 4,
   "metadata": {},
   "outputs": [
    {
     "name": "stdout",
     "output_type": "stream",
     "text": [
      "No Face exists! Please reposition yourself/increase lighting\n",
      "No Face exists! Please reposition yourself/increase lighting\n",
      "No Face exists! Please reposition yourself/increase lighting\n",
      "No Face exists! Please reposition yourself/increase lighting\n",
      "No Face exists! Please reposition yourself/increase lighting\n",
      "Enter User Name: \n",
      "rishab\n",
      "No Face exists! Please reposition yourself/increase lighting\n",
      "No Face exists! Please reposition yourself/increase lighting\n",
      "No Face exists! Please reposition yourself/increase lighting\n",
      "No Face exists! Please reposition yourself/increase lighting\n",
      "No Face exists! Please reposition yourself/increase lighting\n",
      "No Face exists! Please reposition yourself/increase lighting\n",
      "No Face exists! Please reposition yourself/increase lighting\n",
      "No Face exists! Please reposition yourself/increase lighting\n",
      "No Face exists! Please reposition yourself/increase lighting\n",
      "Face Samples Collected!\n"
     ]
    }
   ],
   "source": [
    "device=cv2.VideoCapture(0)\n",
    "frame_count=0\n",
    "\n",
    "while(1):\n",
    "    _,frame=device.read()\n",
    "    if(detect_and_extract_faces(frame) is not None):\n",
    "        frame_count+=1\n",
    "        face=cv2.resize(detect_and_extract_faces(frame),(200,200))\n",
    "        face=cv2.cvtColor(face,cv2.COLOR_BGR2GRAY)\n",
    "        if(frame_count==1):\n",
    "            user_name=input('Enter User Name: \\n')\n",
    "            user_folder_name=face_directory+user_name\n",
    "            os.mkdir(user_folder_name)\n",
    "        \n",
    "        image_name=user_folder_name+'/'+str(frame_count)+'.jpg'\n",
    "        cv2.imwrite(image_name,face)\n",
    "        \n",
    "        cv2.putText(face,str(frame_count),(50,50),cv2.FONT_HERSHEY_COMPLEX,1,(0,255,0),2)\n",
    "        cv2.imshow('Face Cropper',face)\n",
    "        \n",
    "    else:\n",
    "        print('No Face exists! Please reposition yourself/increase lighting')\n",
    "        pass\n",
    "    if(cv2.waitKey(1)==13 or frame_count==100):\n",
    "        break\n",
    "\n",
    "device.release()\n",
    "cv2.destroyAllWindows()\n",
    "print('Face Samples Collected!')"
   ]
  },
  {
   "cell_type": "markdown",
   "metadata": {},
   "source": [
    "# Train the Model"
   ]
  },
  {
   "cell_type": "markdown",
   "metadata": {},
   "source": [
    "Get the user Images"
   ]
  },
  {
   "cell_type": "code",
   "execution_count": 5,
   "metadata": {},
   "outputs": [
    {
     "name": "stdout",
     "output_type": "stream",
     "text": [
      "Who are you?? \n",
      "rishab\n"
     ]
    }
   ],
   "source": [
    "user_name=input('Who are you?? \\n')\n",
    "data_path=face_directory+user_name+'/'\n",
    "files=os.listdir(data_path)\n",
    "\n",
    "image_files=[]\n",
    "for file in files:\n",
    "    if(os.path.isfile(os.path.join(data_path,file))):\n",
    "        image_files.append(file)"
   ]
  },
  {
   "cell_type": "code",
   "execution_count": 6,
   "metadata": {},
   "outputs": [
    {
     "name": "stdout",
     "output_type": "stream",
     "text": [
      "./User_Faces/rishab/1.jpg\n",
      "./User_Faces/rishab/10.jpg\n",
      "./User_Faces/rishab/100.jpg\n",
      "./User_Faces/rishab/11.jpg\n",
      "./User_Faces/rishab/12.jpg\n",
      "./User_Faces/rishab/13.jpg\n",
      "./User_Faces/rishab/14.jpg\n",
      "./User_Faces/rishab/15.jpg\n",
      "./User_Faces/rishab/16.jpg\n",
      "./User_Faces/rishab/17.jpg\n",
      "./User_Faces/rishab/18.jpg\n",
      "./User_Faces/rishab/19.jpg\n",
      "./User_Faces/rishab/2.jpg\n",
      "./User_Faces/rishab/20.jpg\n",
      "./User_Faces/rishab/21.jpg\n",
      "./User_Faces/rishab/22.jpg\n",
      "./User_Faces/rishab/23.jpg\n",
      "./User_Faces/rishab/24.jpg\n",
      "./User_Faces/rishab/25.jpg\n",
      "./User_Faces/rishab/26.jpg\n",
      "./User_Faces/rishab/27.jpg\n",
      "./User_Faces/rishab/28.jpg\n",
      "./User_Faces/rishab/29.jpg\n",
      "./User_Faces/rishab/3.jpg\n",
      "./User_Faces/rishab/30.jpg\n",
      "./User_Faces/rishab/31.jpg\n",
      "./User_Faces/rishab/32.jpg\n",
      "./User_Faces/rishab/33.jpg\n",
      "./User_Faces/rishab/34.jpg\n",
      "./User_Faces/rishab/35.jpg\n",
      "./User_Faces/rishab/36.jpg\n",
      "./User_Faces/rishab/37.jpg\n",
      "./User_Faces/rishab/38.jpg\n",
      "./User_Faces/rishab/39.jpg\n",
      "./User_Faces/rishab/4.jpg\n",
      "./User_Faces/rishab/40.jpg\n",
      "./User_Faces/rishab/41.jpg\n",
      "./User_Faces/rishab/42.jpg\n",
      "./User_Faces/rishab/43.jpg\n",
      "./User_Faces/rishab/44.jpg\n",
      "./User_Faces/rishab/45.jpg\n",
      "./User_Faces/rishab/46.jpg\n",
      "./User_Faces/rishab/47.jpg\n",
      "./User_Faces/rishab/48.jpg\n",
      "./User_Faces/rishab/49.jpg\n",
      "./User_Faces/rishab/5.jpg\n",
      "./User_Faces/rishab/50.jpg\n",
      "./User_Faces/rishab/51.jpg\n",
      "./User_Faces/rishab/52.jpg\n",
      "./User_Faces/rishab/53.jpg\n",
      "./User_Faces/rishab/54.jpg\n",
      "./User_Faces/rishab/55.jpg\n",
      "./User_Faces/rishab/56.jpg\n",
      "./User_Faces/rishab/57.jpg\n",
      "./User_Faces/rishab/58.jpg\n",
      "./User_Faces/rishab/59.jpg\n",
      "./User_Faces/rishab/6.jpg\n",
      "./User_Faces/rishab/60.jpg\n",
      "./User_Faces/rishab/61.jpg\n",
      "./User_Faces/rishab/62.jpg\n",
      "./User_Faces/rishab/63.jpg\n",
      "./User_Faces/rishab/64.jpg\n",
      "./User_Faces/rishab/65.jpg\n",
      "./User_Faces/rishab/66.jpg\n",
      "./User_Faces/rishab/67.jpg\n",
      "./User_Faces/rishab/68.jpg\n",
      "./User_Faces/rishab/69.jpg\n",
      "./User_Faces/rishab/7.jpg\n",
      "./User_Faces/rishab/70.jpg\n",
      "./User_Faces/rishab/71.jpg\n",
      "./User_Faces/rishab/72.jpg\n",
      "./User_Faces/rishab/73.jpg\n",
      "./User_Faces/rishab/74.jpg\n",
      "./User_Faces/rishab/75.jpg\n",
      "./User_Faces/rishab/76.jpg\n",
      "./User_Faces/rishab/77.jpg\n",
      "./User_Faces/rishab/78.jpg\n",
      "./User_Faces/rishab/79.jpg\n",
      "./User_Faces/rishab/8.jpg\n",
      "./User_Faces/rishab/80.jpg\n",
      "./User_Faces/rishab/81.jpg\n",
      "./User_Faces/rishab/82.jpg\n",
      "./User_Faces/rishab/83.jpg\n",
      "./User_Faces/rishab/84.jpg\n",
      "./User_Faces/rishab/85.jpg\n",
      "./User_Faces/rishab/86.jpg\n",
      "./User_Faces/rishab/87.jpg\n",
      "./User_Faces/rishab/88.jpg\n",
      "./User_Faces/rishab/89.jpg\n",
      "./User_Faces/rishab/9.jpg\n",
      "./User_Faces/rishab/90.jpg\n",
      "./User_Faces/rishab/91.jpg\n",
      "./User_Faces/rishab/92.jpg\n",
      "./User_Faces/rishab/93.jpg\n",
      "./User_Faces/rishab/94.jpg\n",
      "./User_Faces/rishab/95.jpg\n",
      "./User_Faces/rishab/96.jpg\n",
      "./User_Faces/rishab/97.jpg\n",
      "./User_Faces/rishab/98.jpg\n",
      "./User_Faces/rishab/99.jpg\n"
     ]
    }
   ],
   "source": [
    "training_data=[]\n",
    "labels=[]\n",
    "for i,file in enumerate(image_files):\n",
    "    \n",
    "    image_path=data_path+image_files[i]\n",
    "    print(image_path)\n",
    "    images=cv2.imread(image_path,cv2.IMREAD_GRAYSCALE)\n",
    "    training_data.append(np.array(images).astype('uint8'))\n",
    "    labels.append(i)\n",
    "    \n",
    "labels=np.array(labels).astype('int32')"
   ]
  },
  {
   "cell_type": "markdown",
   "metadata": {},
   "source": [
    "Initialize and train the classifier"
   ]
  },
  {
   "cell_type": "code",
   "execution_count": 7,
   "metadata": {},
   "outputs": [
    {
     "name": "stdout",
     "output_type": "stream",
     "text": [
      "Model trained successfully!\n"
     ]
    }
   ],
   "source": [
    "recognition_model=cv2.face.LBPHFaceRecognizer_create()\n",
    "recognition_model.train(np.array(training_data),labels)\n",
    "print('Model trained successfully!')"
   ]
  },
  {
   "cell_type": "markdown",
   "metadata": {},
   "source": [
    "# Run and Test"
   ]
  },
  {
   "cell_type": "code",
   "execution_count": 8,
   "metadata": {},
   "outputs": [],
   "source": [
    "import cv2\n",
    "import numpy as np\n",
    "import os\n",
    "\n",
    "face_directory='./User_Faces/'\n",
    "face_classifier=cv2.CascadeClassifier('./haarcascade_frontalface_default.xml')\n",
    "\n",
    "def extract_images_roi(image,size=0.5):\n",
    "    gray=cv2.cvtColor(image,cv2.COLOR_BGR2GRAY)\n",
    "    faces=face_classifier.detectMultiScale(gray,1.3,5)\n",
    "    \n",
    "    if(faces is ()):\n",
    "        return image,[]\n",
    "    \n",
    "    for (x,y,w,h) in faces:\n",
    "        cv2.rectangle(image,(x,y),(x+w,y+h),(0,255,255),2)\n",
    "        cropped_face=image[y:y+h,x:x+w]\n",
    "        cropped_face=cv2.resize(cropped_face,(200,200))\n",
    "    return image,cropped_face"
   ]
  },
  {
   "cell_type": "code",
   "execution_count": 10,
   "metadata": {},
   "outputs": [
    {
     "name": "stdout",
     "output_type": "stream",
     "text": [
      "Face Samples Collected!\n"
     ]
    }
   ],
   "source": [
    "device=cv2.VideoCapture(0)\n",
    "frame_count=0\n",
    "\n",
    "while(1):\n",
    "    _,frame=device.read()\n",
    "    image,face=extract_images_roi(frame)\n",
    "\n",
    "    try:    \n",
    "        face=cv2.cvtColor(face,cv2.COLOR_BGR2GRAY)\n",
    "        \n",
    "        label,score=recognition_model.predict(face)\n",
    "        \n",
    "        if(score<500):\n",
    "            confidence=int(100*(1-(score)/500))\n",
    "            display=f'Confidence of given user is {confidence} \\n'\n",
    "            \n",
    "        cv2.putText(image,display,(100,120),cv2.FONT_HERSHEY_COMPLEX,1,(255,125,150),2)\n",
    "        \n",
    "        if(confidence>75):\n",
    "            cv2.putText(image,'Face Matched ! Unlocked.',(250, 450), cv2.FONT_HERSHEY_COMPLEX, 1, (0,255,0), 2)\n",
    "            cv2.imshow('Face Recognition',image)\n",
    "        else:\n",
    "            cv2.putText(image,'Face Not Matched ! Locked.',(250, 450), cv2.FONT_HERSHEY_COMPLEX, 1, (0,255,0), 2)\n",
    "            cv2.imshow('Face Recognition',image)\n",
    "\n",
    "        \n",
    "    except:\n",
    "        cv2.putText(image, \"No Face Found\", (220, 120) , cv2.FONT_HERSHEY_COMPLEX, 1, (0,0,255), 2)\n",
    "        cv2.putText(image, \"Locked\", (250, 450), cv2.FONT_HERSHEY_COMPLEX, 1, (0,0,255), 2)\n",
    "        cv2.imshow('Face Recognition', image )\n",
    "        pass\n",
    "        \n",
    "    if cv2.waitKey(1) == 13: #13 is the Enter Key\n",
    "        break\n",
    "\n",
    "device.release()\n",
    "cv2.destroyAllWindows()\n",
    "print('Face Samples Collected!')"
   ]
  },
  {
   "cell_type": "code",
   "execution_count": null,
   "metadata": {},
   "outputs": [],
   "source": []
  },
  {
   "cell_type": "code",
   "execution_count": null,
   "metadata": {},
   "outputs": [],
   "source": []
  }
 ],
 "metadata": {
  "kernelspec": {
   "display_name": "Python 3",
   "language": "python",
   "name": "python3"
  },
  "language_info": {
   "codemirror_mode": {
    "name": "ipython",
    "version": 3
   },
   "file_extension": ".py",
   "mimetype": "text/x-python",
   "name": "python",
   "nbconvert_exporter": "python",
   "pygments_lexer": "ipython3",
   "version": "3.7.4"
  }
 },
 "nbformat": 4,
 "nbformat_minor": 2
}
