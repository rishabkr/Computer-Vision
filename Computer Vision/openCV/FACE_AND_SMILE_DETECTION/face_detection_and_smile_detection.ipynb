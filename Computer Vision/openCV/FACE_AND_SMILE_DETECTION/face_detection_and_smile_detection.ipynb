{
 "cells": [
  {
   "cell_type": "code",
   "execution_count": 2,
   "metadata": {},
   "outputs": [],
   "source": [
    "import cv2"
   ]
  },
  {
   "cell_type": "code",
   "execution_count": 5,
   "metadata": {},
   "outputs": [],
   "source": [
    "# ls C:\\Users\\Rishab\\computer_vision\\face_recognition"
   ]
  },
  {
   "cell_type": "code",
   "execution_count": 3,
   "metadata": {},
   "outputs": [],
   "source": [
    "face_cascade=cv2.CascadeClassifier(r'.\\face_recognition\\haarcascade_frontalface_default.xml')\n",
    "eye_cascade=cv2.CascadeClassifier(r'.\\face_recognition\\haarcascade_eye.xml')"
   ]
  },
  {
   "cell_type": "code",
   "execution_count": 7,
   "metadata": {},
   "outputs": [],
   "source": [
    "def detect(gray,frame):\n",
    "    #image,amount_scaled,neighbors_to_be_accepted 1.3 and 5 are good combo\n",
    "    faces=face_cascade.detectMultiScale(gray,1.3,5)\n",
    "    for (x,y,w,h) in faces:\n",
    "        #draws rectangle on frame with coordinates with colour given and thickness\n",
    "        cv2.rectangle(frame,(x,y),(x+w,y+h),(255,0,0),2)\n",
    "        #to detect eyes\n",
    "        roi_gray=gray[y:y+h,x:x+w]\n",
    "        roi_color=frame[y:y+h,x:x+w]\n",
    "        eyes=eye_cascade.detectMultiScale(roi_gray,1.1,3)\n",
    "        for (ex,ey,ew,eh) in eyes:\n",
    "            cv2.rectangle(roi_color,(ex,ey),(ex+ew,ey+eh),(0,0,255),2)\n",
    "    return frame #frame with highlighted detected rectangles"
   ]
  },
  {
   "cell_type": "code",
   "execution_count": 10,
   "metadata": {},
   "outputs": [],
   "source": [
    "video_capture=cv2.VideoCapture(0) #0 for internal webcam 1 for external\n",
    "while True:\n",
    "    #gets the last frame returned by the webcam\n",
    "    _,frame=video_capture.read()\n",
    "    gray=cv2.cvtColor(frame,cv2.COLOR_BGR2GRAY)\n",
    "    canvas=detect(gray,frame)\n",
    "    #display all successive images continuously in an animated way\n",
    "    cv2.imshow('Video',canvas)\n",
    "    if(cv2.waitKey(1)& 0xFF == ord('q')):\n",
    "        break\n",
    "video_capture.release()\n",
    "cv2.destroyAllWindows()"
   ]
  },
  {
   "cell_type": "markdown",
   "metadata": {},
   "source": [
    "# SMILE DETECTOR"
   ]
  },
  {
   "cell_type": "code",
   "execution_count": 4,
   "metadata": {},
   "outputs": [],
   "source": [
    "smile_cascade=cv2.CascadeClassifier(r'.\\face_recognition\\haarcascade_smile.xml')"
   ]
  },
  {
   "cell_type": "code",
   "execution_count": 5,
   "metadata": {},
   "outputs": [],
   "source": [
    "def detect2(gray,frame):\n",
    "    #image,amount_scaled,neighbors_to_be_accepted 1.3 and 5 are good combo\n",
    "    faces=face_cascade.detectMultiScale(gray,1.3,5)\n",
    "    for (x,y,w,h) in faces:\n",
    "        #draws rectangle on frame with coordinates with colour given and thickness\n",
    "        cv2.rectangle(frame,(x,y),(x+w,y+h),(255,0,0),2)\n",
    "        #to detect eyes\n",
    "        roi_gray=gray[y:y+h,x:x+w]\n",
    "        roi_color=frame[y:y+h,x:x+w]\n",
    "        \n",
    "        eyes=eye_cascade.detectMultiScale(roi_gray,1.1,3)\n",
    "        for (ex,ey,ew,eh) in eyes:\n",
    "            cv2.rectangle(roi_color,(ex,ey),(ex+ew,ey+eh),(0,0,255),2)\n",
    "        \n",
    "        smiles=smile_cascade.detectMultiScale(roi_gray,1.7,22)\n",
    "        for (sx,sy,sw,sh) in smiles:\n",
    "            cv2.rectangle(roi_color,(sx,sy),(sx+sw,sy+sh),(0,255,0),2)\n",
    "    \n",
    "    return frame #frame with highlighted detected rectangles"
   ]
  },
  {
   "cell_type": "code",
   "execution_count": 6,
   "metadata": {},
   "outputs": [],
   "source": [
    "video_capture=cv2.VideoCapture(0) #0 for internal webcam 1 for external\n",
    "while True:\n",
    "    #gets the last frame returned by the webcam\n",
    "    _,frame=video_capture.read()\n",
    "    gray=cv2.cvtColor(frame,cv2.COLOR_BGR2GRAY)\n",
    "    canvas=detect2(gray,frame)\n",
    "    #display all successive images continuously in an animated way\n",
    "    cv2.imshow('Video',canvas)\n",
    "    if(cv2.waitKey(1)& 0xFF == ord('q')):\n",
    "        break\n",
    "video_capture.release()\n",
    "cv2.destroyAllWindows()"
   ]
  }
 ],
 "metadata": {
  "kernelspec": {
   "display_name": "Python 3",
   "language": "python",
   "name": "python3"
  },
  "language_info": {
   "codemirror_mode": {
    "name": "ipython",
    "version": 3
   },
   "file_extension": ".py",
   "mimetype": "text/x-python",
   "name": "python",
   "nbconvert_exporter": "python",
   "pygments_lexer": "ipython3",
   "version": "3.7.4"
  }
 },
 "nbformat": 4,
 "nbformat_minor": 2
}
